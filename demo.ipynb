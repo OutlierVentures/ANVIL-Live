{
 "cells": [
  {
   "cell_type": "markdown",
   "metadata": {},
   "source": [
    "<img src=\"./img/ov_logo.png\" style=\"width: 30%\" />\n",
    "<img src=\"./img/anvil_logo.png\" style=\"width: 80%\" />"
   ]
  },
  {
   "cell_type": "markdown",
   "metadata": {},
   "source": [
    "### Build a trusted machine-to-machine negotiation app in 5 minutes\n",
    "\n",
    "ANVIL bridges Fetch.AI and Sovrin, bringing trusted agents to the Open Economic Framework.  View and edit code built with the ANVIL API live: learn how to build trusted, automated settlement between bots from scratch in just 5 minutes."
   ]
  },
  {
   "cell_type": "markdown",
   "metadata": {},
   "source": [
    "### Step 1: import the ANVIL API"
   ]
  },
  {
   "cell_type": "code",
   "execution_count": null,
   "metadata": {},
   "outputs": [],
   "source": [
    "from fetch.agents import search, offer_service, purchase_service\n",
    "from sovrin.utilities import generate_base58\n",
    "from sovrin.setup import setup_pool, set_self_up, teardown\n",
    "from sovrin.onboarding import demo_onboard\n",
    "from sovrin.schema import create_schema, create_credential_definition\n",
    "from sovrin.credentials import offer_credential, receive_credential_offer, request_credential, create_and_send_credential, store_credential\n",
    "from sovrin.proofs import request_proof_of_credential, create_proof_of_credential, verify_proof\n",
    "import json\n",
    "print('ANVIL API imported')"
   ]
  },
  {
   "cell_type": "markdown",
   "metadata": {},
   "source": [
    "### Step 2: set up agents\n",
    "\n",
    "We are going to run through the [certified charging station use case](https://outlierventures.io/research/anvil-a-fetch-ai-and-sovrin-bridge/).\n",
    "\n",
    "This involves three agents: a manufacturer (issuer), charging station (prover) and electric car (verifier).\n",
    "\n",
    "\n",
    "<img src=\"./img/manufacturer_icon.png\" style=\"width: 10%; display: inline-block\" />\n",
    "<div style=\"width: 10%; height: 1px; display: inline-block\"></div>\n",
    "<img src=\"./img/charge_icon.png\" style=\"width: 10%; display: inline-block; display: inline-block\" />\n",
    "<div style=\"width: 10%; height: 1px; display: inline-block\"></div>\n",
    "<img src=\"./img/car_icon.png\" style=\"width: 10%; display: inline-block\" />\n",
    "\n",
    "We will:\n",
    "1. Have the manufacturer issue a credential to the charging station\n",
    "2. Have the charging station offer a charging service on Fetch.AI\n",
    "3. Use an electric car to verify the charging station is genuine\n",
    "\n",
    "Let's set up our Sovrin node pool and agents, establishing secure channels between them:"
   ]
  },
  {
   "cell_type": "code",
   "execution_count": null,
   "metadata": {},
   "outputs": [],
   "source": [
    "pool_name, pool_handle = await setup_pool('local')\n",
    "\n",
    "steward = await set_self_up('steward', generate_base58(64), generate_base58(64), pool_handle, seed = '000000000000000000000000Steward1')\n",
    "issuer = await set_self_up('issuer', generate_base58(64), generate_base58(64), pool_handle)\n",
    "prover = await set_self_up('prover', generate_base58(64), generate_base58(64), pool_handle)\n",
    "verifier = await set_self_up('verifier', generate_base58(64), generate_base58(64), pool_handle)\n",
    "\n",
    "steward, issuer = await demo_onboard(steward, issuer)\n",
    "steward, verifier = await demo_onboard(steward, verifier)\n",
    "issuer, prover = await demo_onboard(issuer, prover)\n",
    "verifier, prover = await demo_onboard(verifier, prover)"
   ]
  },
  {
   "cell_type": "markdown",
   "metadata": {},
   "source": [
    "### Step 3: issue a credential"
   ]
  },
  {
   "cell_type": "markdown",
   "metadata": {},
   "source": [
    "#### Part A\n",
    "\n",
    "We define a _schema_ (which attributes the credential should have), and offer this to the charging station:"
   ]
  },
  {
   "cell_type": "code",
   "execution_count": null,
   "metadata": {},
   "outputs": [],
   "source": [
    "schema = {\n",
    "    \"name\": \"Charging Station Certification\",\n",
    "    \"version\": \"1.0\",\n",
    "    \"attributes\": [\"output\", \"firmware\", \"grounded\", \"license\", \"year\", \"id\"]\n",
    "}\n",
    "unique_schema_name, schema_id, issuer = await create_schema(schema, issuer)\n",
    "issuer = await create_credential_definition(issuer, schema_id, unique_schema_name, revocable = False)\n",
    "issuer, cred_offer = await offer_credential(issuer, unique_schema_name)"
   ]
  },
  {
   "cell_type": "markdown",
   "metadata": {},
   "source": [
    "#### Part B\n",
    "\n",
    "The charging station receives the credential offer, and fills in its values for the credential attributes as a _credential request_:"
   ]
  },
  {
   "cell_type": "code",
   "execution_count": null,
   "metadata": {},
   "outputs": [],
   "source": [
    "prover['authcrypted_cred_offer'] = cred_offer\n",
    "prover = await receive_credential_offer(prover)\n",
    "cred_request = json.dumps({\n",
    "    \"output\": {\"raw\": \"22kW\", \"encoded\": \"22\"},\n",
    "    \"grounded\": {\"raw\": \"yes\", \"encoded\": \"1\"},\n",
    "    \"license\": {\"raw\": \"Grounded Station\", \"encoded\": \"145\"},\n",
    "    \"firmware\": {\"raw\": \"2.1\", \"encoded\": \"45\"},\n",
    "    \"year\": {\"raw\": \"2019\", \"encoded\": \"2019\"},\n",
    "    \"id\": {\"raw\": \"did:ov:37h3r\", \"encoded\": \"3708318\"}\n",
    "})\n",
    "prover, cred_request = await request_credential(prover, cred_request)"
   ]
  },
  {
   "cell_type": "markdown",
   "metadata": {},
   "source": [
    "#### Part C\n",
    "\n",
    "<img src=\"./img/cred.png\" style=\"width: 20%; display: inline-block;\" />\n",
    "\n",
    "The manufacturer receives the credential request, creates the final credential and sends it back:"
   ]
  },
  {
   "cell_type": "code",
   "execution_count": null,
   "metadata": {},
   "outputs": [],
   "source": [
    "issuer['authcrypted_cred_request'] = cred_request\n",
    "issuer, cred = await create_and_send_credential(issuer)"
   ]
  },
  {
   "cell_type": "markdown",
   "metadata": {},
   "source": [
    "#### Part D\n",
    "\n",
    "The charging station receives the credential and stores it in its wallet:"
   ]
  },
  {
   "cell_type": "code",
   "execution_count": null,
   "metadata": {},
   "outputs": [],
   "source": [
    "prover['authcrypted_cred'] = cred\n",
    "prover = await store_credential(prover)"
   ]
  },
  {
   "cell_type": "markdown",
   "metadata": {},
   "source": [
    "### Step 4: offer a charging service\n",
    "\n",
    "Services are offered using a path to the Fetch.AI data model describing it. This is a set of JSON files, and for a charging service could be as follows.\n",
    "Data model:\n",
    "```JSON\n",
    "{\n",
    "    \"name\" : \"Car charging\",\n",
    "    \"description\": \"Electric car charging service.\",\n",
    "    \"attributes\": {\n",
    "        \"license\": \"Grounded Station\",\n",
    "        \"output\": \"22kW\"\n",
    "    }\n",
    "}\n",
    "```\n",
    "Service description:\n",
    "```JSON\n",
    "{\n",
    "    \"license\": true,\n",
    "    \"output\": true\n",
    "}\n",
    "```\n",
    "Data to send:\n",
    "```JSON\n",
    "{\n",
    "    \"output\": \"22kW\",\n",
    "    \"duration\": \"1hr\",\n",
    "    \"start\": \"1min\"\n",
    "}\n",
    "```\n",
    "For the sake of this demo we store these files at `./charging_service`.\n",
    "\n",
    "We offer charging at a price of 100 Fetch.AI tokens:"
   ]
  },
  {
   "cell_type": "code",
   "execution_count": 18,
   "metadata": {},
   "outputs": [],
   "source": [
    "offer_service(100, '../../charging_service')"
   ]
  },
  {
   "cell_type": "markdown",
   "metadata": {},
   "source": [
    "### Step 5: verify the charging station is genuine"
   ]
  },
  {
   "cell_type": "markdown",
   "metadata": {},
   "source": [
    "#### Part A\n",
    "The car approaches the charging pole and requests a proof of credential:"
   ]
  },
  {
   "cell_type": "code",
   "execution_count": null,
   "metadata": {},
   "outputs": [],
   "source": [
    "proof_request = json.dumps({\n",
    "    \"nonce\": \"0123456789012345678901234\",\n",
    "    \"name\": \"Grounded Station proof\",\n",
    "    \"version\": \"0.1\",\n",
    "    \"requested_attributes\": {\n",
    "        \"attr1_referent\": {\n",
    "            \"name\": \"output\"\n",
    "        },\n",
    "        \"attr2_referent\": {\n",
    "            \"name\": \"grounded\"\n",
    "        },\n",
    "        \"attr3_referent\": {\n",
    "            \"name\": \"license\"\n",
    "        },\n",
    "        \"attr4_referent\": {\n",
    "            \"name\": \"firmware\"\n",
    "        },\n",
    "        \"attr5_referent\": {\n",
    "            \"name\": \"id\"\n",
    "        }\n",
    "    },\n",
    "    \"requested_predicates\": {\n",
    "        \"predicate1_referent\": {\n",
    "            \"name\": \"year\",\n",
    "            \"p_type\": \">=\",\n",
    "            \"p_value\": 2019\n",
    "        }\n",
    "    }\n",
    "})\n",
    "verifier, proof_request = await request_proof_of_credential(verifier, proof_request)"
   ]
  },
  {
   "cell_type": "markdown",
   "metadata": {},
   "source": [
    "#### Part B\n",
    "\n",
    "The charging pole receives the proof request and constructs a proof. It specifies what it will attest itself as well as what to get from the Sovrin ledger:"
   ]
  },
  {
   "cell_type": "code",
   "execution_count": 21,
   "metadata": {},
   "outputs": [
    {
     "ename": "NameError",
     "evalue": "name 'proof_request' is not defined",
     "output_type": "error",
     "traceback": [
      "\u001b[0;31m---------------------------------------------------------------------------\u001b[0m",
      "\u001b[0;31mNameError\u001b[0m                                 Traceback (most recent call last)",
      "\u001b[0;32m<ipython-input-21-9124d99dceb7>\u001b[0m in \u001b[0;36masync-def-wrapper\u001b[0;34m()\u001b[0m\n\u001b[1;32m      2\u001b[0m self_attested_attributes = {\n\u001b[1;32m      3\u001b[0m     \u001b[0;34m\"attr1_referent\"\u001b[0m\u001b[0;34m:\u001b[0m \u001b[0;34m\"22kW\"\u001b[0m\u001b[0;34m,\u001b[0m\u001b[0;34m\u001b[0m\u001b[0;34m\u001b[0m\u001b[0m\n\u001b[0;32m----> 4\u001b[0;31m     \u001b[0;34m\"attr5_referent\"\u001b[0m\u001b[0;34m:\u001b[0m \u001b[0;34m\"did:ov:37h3r\"\u001b[0m\u001b[0;34m\u001b[0m\u001b[0;34m\u001b[0m\u001b[0m\n\u001b[0m\u001b[1;32m      5\u001b[0m }\n\u001b[1;32m      6\u001b[0m \u001b[0mprover\u001b[0m\u001b[0;34m,\u001b[0m \u001b[0mproof\u001b[0m \u001b[0;34m=\u001b[0m \u001b[0;32mawait\u001b[0m \u001b[0mcreate_proof_of_credential\u001b[0m\u001b[0;34m(\u001b[0m\u001b[0mprover\u001b[0m\u001b[0;34m,\u001b[0m \u001b[0mself_attested_attributes\u001b[0m\u001b[0;34m,\u001b[0m \u001b[0mrequested_attrs\u001b[0m \u001b[0;34m=\u001b[0m \u001b[0;34m[\u001b[0m\u001b[0;36m2\u001b[0m\u001b[0;34m,\u001b[0m\u001b[0;36m3\u001b[0m\u001b[0;34m,\u001b[0m\u001b[0;36m4\u001b[0m\u001b[0;34m]\u001b[0m\u001b[0;34m,\u001b[0m \u001b[0mrequested_preds\u001b[0m \u001b[0;34m=\u001b[0m \u001b[0;34m[\u001b[0m\u001b[0;36m1\u001b[0m\u001b[0;34m]\u001b[0m\u001b[0;34m,\u001b[0m \u001b[0mnon_issuer_attributes\u001b[0m \u001b[0;34m=\u001b[0m \u001b[0;34m[\u001b[0m\u001b[0;34m]\u001b[0m\u001b[0;34m)\u001b[0m\u001b[0;34m\u001b[0m\u001b[0;34m\u001b[0m\u001b[0m\n",
      "\u001b[0;31mNameError\u001b[0m: name 'proof_request' is not defined"
     ]
    }
   ],
   "source": [
    "prover['authcrypted_proof_request'] = proof_request\n",
    "self_attested_attributes = {\n",
    "    \"attr1_referent\": \"22kW\",\n",
    "    \"attr5_referent\": \"did:ov:37h3r\"\n",
    "}\n",
    "prover, proof = await create_proof_of_credential(prover, self_attested_attributes, requested_attrs = [2,3,4], requested_preds = [1], non_issuer_attributes = [])"
   ]
  },
  {
   "cell_type": "markdown",
   "metadata": {},
   "source": [
    "#### Part C\n",
    "The car receives the proof and verifies it using the Sovrin ledger, specifying any desired assertions to make on the attributes:"
   ]
  },
  {
   "cell_type": "code",
   "execution_count": null,
   "metadata": {},
   "outputs": [],
   "source": [
    "verifier['authcrypted_proof'] = proof\n",
    "assertions_to_make = {\n",
    "    \"revealed\": {\n",
    "        \"attr2_referent\": \"yes\",\n",
    "        \"attr3_referent\": \"Grounded Station\",\n",
    "        \"attr4_referent\": \"2.1\"\n",
    "    },\n",
    "    \"self_attested\": {\n",
    "        \"attr1_referent\": \"22kW\",\n",
    "        \"attr5_referent\": \"did:ov:37h3r\"\n",
    "    }\n",
    "}\n",
    "verifier = await verify_proof(verifier, assertions_to_make)"
   ]
  },
  {
   "cell_type": "markdown",
   "metadata": {},
   "source": [
    "### Step 6: Purchase the service\n",
    "Having verified that the charging station is genuine, the car purchases the charging service, specifying the maximum price it is willing to pay and the properties it desires (`license` and `output`):"
   ]
  },
  {
   "cell_type": "code",
   "execution_count": null,
   "metadata": {},
   "outputs": [],
   "source": [
    "purchase_service(101, 'license_output')"
   ]
  },
  {
   "cell_type": "markdown",
   "metadata": {},
   "source": [
    "Settlement is automatic, and the charging starts. The transactions is automatically logged to the Fetch.AI _smart ledger_.\n",
    "\n",
    "Finally, tear down connections:"
   ]
  },
  {
   "cell_type": "code",
   "execution_count": null,
   "metadata": {},
   "outputs": [],
   "source": [
    "await teardown(pool_name, pool_handle, [steward, issuer, prover, verifier])"
   ]
  },
  {
   "cell_type": "markdown",
   "metadata": {},
   "source": [
    "Now you know how to build a trusted machine-to-machine negotiation app, so [get building!](https://www.github.com/OutlierVentures/ANVIL)"
   ]
  }
 ],
 "metadata": {
  "kernelspec": {
   "display_name": "Python 3",
   "language": "python",
   "name": "python3"
  },
  "language_info": {
   "codemirror_mode": {
    "name": "ipython",
    "version": 3
   },
   "file_extension": ".py",
   "mimetype": "text/x-python",
   "name": "python",
   "nbconvert_exporter": "python",
   "pygments_lexer": "ipython3",
   "version": "3.7.3"
  }
 },
 "nbformat": 4,
 "nbformat_minor": 2
}
